{
 "cells": [
  {
   "cell_type": "code",
   "execution_count": 285,
   "metadata": {
    "ExecuteTime": {
     "end_time": "2020-07-23T15:42:45.943396Z",
     "start_time": "2020-07-23T15:42:45.937575Z"
    }
   },
   "outputs": [],
   "source": [
    "import json\n",
    "import numpy as np\n",
    "from PIL import Image\n",
    "import matplotlib.pyplot as plt"
   ]
  },
  {
   "cell_type": "code",
   "execution_count": 169,
   "metadata": {
    "ExecuteTime": {
     "end_time": "2020-07-23T15:32:35.141067Z",
     "start_time": "2020-07-23T15:32:35.135564Z"
    }
   },
   "outputs": [],
   "source": [
    "num_rows = 7\n",
    "num_cols = 22\n",
    "template = np.zeros((num_rows, num_cols), dtype=int)"
   ]
  },
  {
   "cell_type": "code",
   "execution_count": 170,
   "metadata": {
    "ExecuteTime": {
     "end_time": "2020-07-23T15:32:35.429558Z",
     "start_time": "2020-07-23T15:32:35.421065Z"
    }
   },
   "outputs": [],
   "source": [
    "tile_to_ix = {\n",
    "    '0' : 0,\n",
    "    '1' : 1,\n",
    "    '2' : 2,\n",
    "    '3' : 3,\n",
    "    '4' : 4,\n",
    "    'ground' : 5,\n",
    "    'dollar' : 6,\n",
    "    'sky' : 7,\n",
    "    'black' : 8\n",
    "}\n",
    "ix_to_tile = {v:k for k, v in tile_to_ix.items()}"
   ]
  },
  {
   "cell_type": "code",
   "execution_count": 171,
   "metadata": {
    "ExecuteTime": {
     "end_time": "2020-07-23T15:32:35.666551Z",
     "start_time": "2020-07-23T15:32:35.659384Z"
    }
   },
   "outputs": [],
   "source": [
    "tiles_dir = 'tiles'\n",
    "tile_to_png = {k : Image.open(f'{tiles_dir}/{k}.png') for k, _ in tile_to_ix.items()}"
   ]
  },
  {
   "cell_type": "code",
   "execution_count": 172,
   "metadata": {
    "ExecuteTime": {
     "end_time": "2020-07-23T15:32:35.867221Z",
     "start_time": "2020-07-23T15:32:35.860133Z"
    }
   },
   "outputs": [
    {
     "data": {
      "image/png": "[encoded data removed]",
      "text/plain": [
       "<PIL.PngImagePlugin.PngImageFile image mode=RGBA size=16x16 at 0x116B0F2E8>"
      ]
     },
     "execution_count": 172,
     "metadata": {},
     "output_type": "execute_result"
    }
   ],
   "source": [
    "tile_to_png[ix_to_tile[8]]"
   ]
  },
  {
   "cell_type": "code",
   "execution_count": 173,
   "metadata": {
    "ExecuteTime": {
     "end_time": "2020-07-23T15:32:36.094684Z",
     "start_time": "2020-07-23T15:32:36.085519Z"
    }
   },
   "outputs": [],
   "source": [
    "def int_array_to_image(array):\n",
    "    \"\"\"\n",
    "    Convert a 16-by-16 array of integers into a PIL.Image object\n",
    "    param: array: a 16-by-16 array of integers\n",
    "    \"\"\"\n",
    "    image = Image.new('RGBA', (array.shape[1] * 16, array.shape[0] * 16))\n",
    "    for row, seg in enumerate(array):\n",
    "        for col, ix in enumerate(seg):\n",
    "            image.paste(tile_to_png[ix_to_tile[ix]], (col * 16, row * 16))\n",
    "    return image"
   ]
  },
  {
   "cell_type": "code",
   "execution_count": 174,
   "metadata": {
    "ExecuteTime": {
     "end_time": "2020-07-23T15:32:36.285282Z",
     "start_time": "2020-07-23T15:32:36.271880Z"
    }
   },
   "outputs": [],
   "source": [
    "template[:-1] = tile_to_ix['sky']\n",
    "\n",
    "template[-1] = tile_to_ix['ground']\n",
    "template[:,-2] = tile_to_ix['ground']\n",
    "\n",
    "template[0] = tile_to_ix['black']\n",
    "\n",
    "template[0, 3] = tile_to_ix['1']\n",
    "template[0, 5] = tile_to_ix['2']\n",
    "template[0, 10] = tile_to_ix['0']\n",
    "template[0, 9] = tile_to_ix['3']\n",
    "\n",
    "template[-2, 3] = tile_to_ix['1']\n",
    "template[-2, 5] = tile_to_ix['2']\n",
    "template[-2, 10] = tile_to_ix['0']\n",
    "template[-2, 9] = tile_to_ix['3']\n",
    "\n",
    "template[-2, -1] = tile_to_ix['dollar']\n",
    "template[-3, -1] = tile_to_ix['dollar']\n",
    "template[-4, -1] = tile_to_ix['dollar']\n",
    "template[-5, -1] = tile_to_ix['dollar']"
   ]
  },
  {
   "cell_type": "code",
   "execution_count": 289,
   "metadata": {
    "ExecuteTime": {
     "end_time": "2020-07-23T15:48:24.857416Z",
     "start_time": "2020-07-23T15:48:24.845223Z"
    }
   },
   "outputs": [],
   "source": [
    "def get_level(num_special_blocks):\n",
    "    \n",
    "    template = np.zeros((num_rows, num_cols), dtype=int)\n",
    "    \n",
    "    box_col_ixs = np.random.choice(np.arange(20), size=num_special_blocks, replace=False)\n",
    "    \n",
    "    template[:-1] = tile_to_ix['sky']\n",
    "    \n",
    "    template[-1] = tile_to_ix['ground']\n",
    "    template[:,-2] = tile_to_ix['ground']\n",
    "    \n",
    "    template[0] = tile_to_ix['black']\n",
    "    \n",
    "    template[-2, box_col_ixs] = tile_to_ix['1']\n",
    "    template[0, box_col_ixs] = tile_to_ix['1']\n",
    "    \n",
    "    for row_ix in [-2, -3, -4, -5, -6][:len(box_col_ixs)]:\n",
    "        template[row_ix, -1] = tile_to_ix['dollar']\n",
    "    \n",
    "    return box_col_ixs, template"
   ]
  },
  {
   "cell_type": "code",
   "execution_count": 291,
   "metadata": {
    "ExecuteTime": {
     "end_time": "2020-07-23T15:48:30.193646Z",
     "start_time": "2020-07-23T15:48:30.057407Z"
    }
   },
   "outputs": [
    {
     "data": {
      "image/png": "[encoded data removed]",
      "text/plain": [
       "<Figure size 1440x288 with 1 Axes>"
      ]
     },
     "metadata": {
      "needs_background": "light"
     },
     "output_type": "display_data"
    }
   ],
   "source": [
    "plt.figure(figsize=(20, 4))\n",
    "plt.imshow(int_array_to_image(get_level(5)[1]))\n",
    "plt.axis('off')\n",
    "plt.show()"
   ]
  },
  {
   "cell_type": "code",
   "execution_count": 300,
   "metadata": {
    "ExecuteTime": {
     "end_time": "2020-07-23T15:50:47.896837Z",
     "start_time": "2020-07-23T15:50:47.703968Z"
    }
   },
   "outputs": [],
   "source": [
    "levels = []\n",
    "box_col_ixs_s = []\n",
    "np.random.seed(10)\n",
    "\n",
    "for i in range(1000):\n",
    "    \n",
    "    box_col_ixs, level = get_level(4)\n",
    "    box_col_ixs_s.append(box_col_ixs)\n",
    "    levels.append(level)\n",
    "    \n",
    "    box_col_ixs, level = get_level(5)\n",
    "    box_col_ixs_s.append(box_col_ixs)\n",
    "    levels.append(level)\n",
    "    \n",
    "levels = np.array(levels)\n",
    "\n",
    "np.random.seed(42)\n",
    "np.random.shuffle(levels)\n",
    "np.random.seed(42)\n",
    "np.random.shuffle(box_col_ixs_s)"
   ]
  },
  {
   "cell_type": "code",
   "execution_count": 305,
   "metadata": {
    "ExecuteTime": {
     "end_time": "2020-07-23T15:51:28.654079Z",
     "start_time": "2020-07-23T15:51:28.193009Z"
    }
   },
   "outputs": [],
   "source": [
    "with open('levels.json', 'w+') as json_f:\n",
    "    json.dump(levels.tolist(), json_f)\n",
    "    \n",
    "with open('box_col_ixs_s.json', 'w+') as json_f:\n",
    "    json.dump([arr.tolist() for arr in box_col_ixs_s], json_f)"
   ]
  },
  {
   "cell_type": "code",
   "execution_count": null,
   "metadata": {},
   "outputs": [],
   "source": [
    "get_inputs_and_targets"
   ]
  }
 ],
 "metadata": {
  "kernelspec": {
   "display_name": "Python 3",
   "language": "python",
   "name": "python3"
  },
  "language_info": {
   "codemirror_mode": {
    "name": "ipython",
    "version": 3
   },
   "file_extension": ".py",
   "mimetype": "text/x-python",
   "name": "python",
   "nbconvert_exporter": "python",
   "pygments_lexer": "ipython3",
   "version": "3.6.9"
  },
  "toc": {
   "base_numbering": 1,
   "nav_menu": {},
   "number_sections": true,
   "sideBar": true,
   "skip_h1_title": false,
   "title_cell": "Table of Contents",
   "title_sidebar": "Contents",
   "toc_cell": false,
   "toc_position": {},
   "toc_section_display": true,
   "toc_window_display": false
  }
 },
 "nbformat": 4,
 "nbformat_minor": 2
}
